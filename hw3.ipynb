{
 "cells": [
  {
   "cell_type": "markdown",
   "metadata": {},
   "source": [
    "## Assignment 3: Use Logistic Regression to predict postive and negative film reviews\n",
    "Our second assignment will have us write code to tokenize movie reviews and predict positive or negative labels.\n",
    "\n",
    "In this assignment, you will\n",
    "1. Import reviews into a dataframe, along with labels\n",
    "2. Split your data in to testing and training sets\n",
    "3. Transform the raw data into matrices with TF-IDF values\n",
    "4. Train a logistic regression model\n",
    "5. Compute precision, recall, and F1 scores\n",
    "6. Plot precision-recall curve\n",
    "7. Plot ROC curve\n",
    "8. Summarize your work, results, and conclusions.\n",
    "\n",
    "Feel free to start simple and try to improve your model results with more sophisticated preparation of the data, but you must use logistic regression.\n",
    "\n",
    "Due Date: 2020-10-09 5 pm ET\n",
    "\n",
    "Please submit your completed assignment through GradeScope. You should submit a PDF of your notebook with all output."
   ]
  },
  {
   "cell_type": "markdown",
   "metadata": {},
   "source": [
    "### Preliminaries:\n",
    "import standard libraries"
   ]
  },
  {
   "cell_type": "code",
   "execution_count": 1,
   "metadata": {},
   "outputs": [],
   "source": [
    "%load_ext lab_black\n",
    "# you may want to import standard libraries here\n",
    "import numpy as np\n",
    "import pandas as pd"
   ]
  },
  {
   "cell_type": "markdown",
   "metadata": {},
   "source": [
    "**Read in the reviews**"
   ]
  },
  {
   "cell_type": "code",
   "execution_count": 2,
   "metadata": {},
   "outputs": [],
   "source": [
    "import glob\n",
    "import nltk\n",
    "\n",
    "# read in reviews from the NLTK corpora directory\n",
    "datadir = \"/Users/Jennie/nltk_data/corpora/movie_reviews\"\n",
    "neg = datadir + \"/neg/\"\n",
    "pos = datadir + \"/pos/\"\n",
    "\n",
    "posarr = []\n",
    "negarr = []\n",
    "\n",
    "pfiles = [f for f in glob.glob(pos + \"*.txt\", recursive=False)]\n",
    "nfiles = [f for f in glob.glob(neg + \"*.txt\", recursive=False)]\n",
    "for f in pfiles:\n",
    "    with open(f) as my_file:\n",
    "        posarr.append(my_file.read().replace(\"\\n\", \"\"))\n",
    "for f in nfiles:\n",
    "    with open(f) as my_file:\n",
    "        negarr.append(my_file.read().replace(\"\\n\", \"\"))"
   ]
  },
  {
   "cell_type": "markdown",
   "metadata": {},
   "source": [
    "### 1. Create a dataframe with labels for positive and negative\n",
    "Your dataframe should have 2 columns:\n",
    "* **doc** contains the raw text from the review\n",
    "* **label** contains 0 (negative) or 1(positive)"
   ]
  },
  {
   "cell_type": "code",
   "execution_count": 3,
   "metadata": {},
   "outputs": [],
   "source": [
    "data = {\"doc\": posarr + negarr, \"label\": [1 for i in posarr] + [0 for i in negarr]}\n",
    "df = pd.DataFrame.from_dict(data)"
   ]
  },
  {
   "cell_type": "code",
   "execution_count": 4,
   "metadata": {},
   "outputs": [
    {
     "data": {
      "text/html": [
       "<div>\n",
       "<style scoped>\n",
       "    .dataframe tbody tr th:only-of-type {\n",
       "        vertical-align: middle;\n",
       "    }\n",
       "\n",
       "    .dataframe tbody tr th {\n",
       "        vertical-align: top;\n",
       "    }\n",
       "\n",
       "    .dataframe thead th {\n",
       "        text-align: right;\n",
       "    }\n",
       "</style>\n",
       "<table border=\"1\" class=\"dataframe\">\n",
       "  <thead>\n",
       "    <tr style=\"text-align: right;\">\n",
       "      <th></th>\n",
       "      <th>doc</th>\n",
       "      <th>label</th>\n",
       "    </tr>\n",
       "  </thead>\n",
       "  <tbody>\n",
       "    <tr>\n",
       "      <th>0</th>\n",
       "      <td>assume nothing . the phrase is perhaps one of ...</td>\n",
       "      <td>1</td>\n",
       "    </tr>\n",
       "    <tr>\n",
       "      <th>1</th>\n",
       "      <td>plot : derek zoolander is a male model . he is...</td>\n",
       "      <td>1</td>\n",
       "    </tr>\n",
       "    <tr>\n",
       "      <th>2</th>\n",
       "      <td>i actually am a fan of the original 1961 or so...</td>\n",
       "      <td>1</td>\n",
       "    </tr>\n",
       "    <tr>\n",
       "      <th>3</th>\n",
       "      <td>a movie that's been as highly built up as the ...</td>\n",
       "      <td>1</td>\n",
       "    </tr>\n",
       "    <tr>\n",
       "      <th>4</th>\n",
       "      <td>\" good will hunting \" is two movies in one : ...</td>\n",
       "      <td>1</td>\n",
       "    </tr>\n",
       "    <tr>\n",
       "      <th>...</th>\n",
       "      <td>...</td>\n",
       "      <td>...</td>\n",
       "    </tr>\n",
       "    <tr>\n",
       "      <th>1995</th>\n",
       "      <td>synopsis : when a meteorite crashlands in the ...</td>\n",
       "      <td>0</td>\n",
       "    </tr>\n",
       "    <tr>\n",
       "      <th>1996</th>\n",
       "      <td>it's now the anniversary of the slayings of ju...</td>\n",
       "      <td>0</td>\n",
       "    </tr>\n",
       "    <tr>\n",
       "      <th>1997</th>\n",
       "      <td>coinciding with the emerging popularity of mov...</td>\n",
       "      <td>0</td>\n",
       "    </tr>\n",
       "    <tr>\n",
       "      <th>1998</th>\n",
       "      <td>and now the high-flying hong kong style of fil...</td>\n",
       "      <td>0</td>\n",
       "    </tr>\n",
       "    <tr>\n",
       "      <th>1999</th>\n",
       "      <td>battlefield long , boring and just plain stupi...</td>\n",
       "      <td>0</td>\n",
       "    </tr>\n",
       "  </tbody>\n",
       "</table>\n",
       "<p>2000 rows × 2 columns</p>\n",
       "</div>"
      ],
      "text/plain": [
       "                                                    doc  label\n",
       "0     assume nothing . the phrase is perhaps one of ...      1\n",
       "1     plot : derek zoolander is a male model . he is...      1\n",
       "2     i actually am a fan of the original 1961 or so...      1\n",
       "3     a movie that's been as highly built up as the ...      1\n",
       "4      \" good will hunting \" is two movies in one : ...      1\n",
       "...                                                 ...    ...\n",
       "1995  synopsis : when a meteorite crashlands in the ...      0\n",
       "1996  it's now the anniversary of the slayings of ju...      0\n",
       "1997  coinciding with the emerging popularity of mov...      0\n",
       "1998  and now the high-flying hong kong style of fil...      0\n",
       "1999  battlefield long , boring and just plain stupi...      0\n",
       "\n",
       "[2000 rows x 2 columns]"
      ]
     },
     "execution_count": 4,
     "metadata": {},
     "output_type": "execute_result"
    }
   ],
   "source": [
    "df"
   ]
  },
  {
   "cell_type": "markdown",
   "metadata": {},
   "source": [
    "### 2. Split data into training and test sets\n",
    "Use `sklearn.model_selection.train_test_split`. Make sure your result is repeatable. You should also create 2 new arrays (**`y_test`** and **`y_train`**) that contain the true labels for the samples"
   ]
  },
  {
   "cell_type": "code",
   "execution_count": 5,
   "metadata": {},
   "outputs": [],
   "source": [
    "from sklearn.model_selection import train_test_split\n",
    "\n",
    "train, test = train_test_split(df, train_size=0.8, random_state=44)\n",
    "y_train = train[\"label\"]\n",
    "y_test = test[\"label\"]"
   ]
  },
  {
   "cell_type": "markdown",
   "metadata": {},
   "source": [
    "### 3. Use TfidfVectorizer to tranform into tf-idf features\n",
    "Use `sklearn.feature_extraction.text.TfidfVectorizer` to extract features and apply TF-IDF transformation. You will be creating 2 new matrices (**`x_train`** and **`x_test`** that contain the tf-idf values. Be sure you get the dimensions right."
   ]
  },
  {
   "cell_type": "code",
   "execution_count": 6,
   "metadata": {},
   "outputs": [],
   "source": [
    "from sklearn.feature_extraction.text import TfidfVectorizer\n",
    "\n",
    "# extract features\n",
    "vectorizer = TfidfVectorizer()\n",
    "tfidf = vectorizer.fit_transform(df[\"doc\"])\n",
    "x_train, x_test = train_test_split(tfidf, train_size=0.8, random_state=44)"
   ]
  },
  {
   "cell_type": "code",
   "execution_count": 7,
   "metadata": {},
   "outputs": [
    {
     "name": "stdout",
     "output_type": "stream",
     "text": [
      "(1600, 39659) (400, 39659)\n"
     ]
    }
   ],
   "source": [
    "print(x_train.shape, x_test.shape)"
   ]
  },
  {
   "cell_type": "markdown",
   "metadata": {},
   "source": [
    "### 4. Use `sklearn.linear_model.LogisticRegression` to fit a model to predict probability of positive or negative sentiment. Use those probability to create a vector `y_score` that contains your prediction. Feel free to tweak regression parameters to get your best result"
   ]
  },
  {
   "cell_type": "code",
   "execution_count": 8,
   "metadata": {},
   "outputs": [
    {
     "name": "stderr",
     "output_type": "stream",
     "text": [
      "[Parallel(n_jobs=-1)]: Using backend LokyBackend with 4 concurrent workers.\n",
      "[Parallel(n_jobs=-1)]: Done   1 out of   1 | elapsed:   10.2s finished\n"
     ]
    }
   ],
   "source": [
    "from sklearn.linear_model import LogisticRegression\n",
    "\n",
    "logreg = LogisticRegression(C=5, random_state=0, n_jobs=-1, verbose=5, max_iter=200)\n",
    "\n",
    "logreg.fit(x_train, y_train)\n",
    "y_pred = logreg.predict(x_test)\n",
    "y_scores = logreg.decision_function(x_test)"
   ]
  },
  {
   "cell_type": "markdown",
   "metadata": {},
   "source": [
    "### 5. Compute **precision score**, **recall score**, **f1 score**, and **average precision score**.\n",
    "\n",
    "Please print out each value, one per line, at 2 decimal precision."
   ]
  },
  {
   "cell_type": "code",
   "execution_count": 9,
   "metadata": {},
   "outputs": [
    {
     "name": "stdout",
     "output_type": "stream",
     "text": [
      "Precision Score: 0.84\n",
      "Recall Score: 0.88\n",
      "F1 Score: 0.86\n",
      "Average Precision Score: 0.93\n"
     ]
    }
   ],
   "source": [
    "from sklearn.metrics import (\n",
    "    precision_score,\n",
    "    recall_score,\n",
    "    f1_score,\n",
    "    average_precision_score,\n",
    ")\n",
    "\n",
    "# precision, recall, f1, and average precision below\n",
    "precision = precision_score(y_test, y_pred)\n",
    "recall = recall_score(y_test, y_pred)\n",
    "f1 = f1_score(y_test, y_pred)\n",
    "avg_precision = average_precision_score(y_test, y_scores)\n",
    "\n",
    "print(\"Precision Score: {:.2f}\".format(precision))\n",
    "print(\"Recall Score: {:.2f}\".format(recall))\n",
    "print(\"F1 Score: {:.2f}\".format(f1))\n",
    "print(\"Average Precision Score: {:.2f}\".format(avg_precision))"
   ]
  },
  {
   "cell_type": "markdown",
   "metadata": {},
   "source": [
    "### 6. Plot a precision-recall curve, with recall on the x-axis, and precision on the y-axis.\n",
    "\n",
    "Hint: use `precision_recall_curve` and `plot_precision_recall_curve` from `sklearn.metrics`"
   ]
  },
  {
   "cell_type": "code",
   "execution_count": 10,
   "metadata": {},
   "outputs": [
    {
     "data": {
      "text/plain": [
       "<sklearn.metrics._plot.precision_recall_curve.PrecisionRecallDisplay at 0x1a1dfd1c50>"
      ]
     },
     "execution_count": 10,
     "metadata": {},
     "output_type": "execute_result"
    },
    {
     "data": {
      "image/png": "[encoded data removed]",
      "text/plain": [
       "<Figure size 432x288 with 1 Axes>"
      ]
     },
     "metadata": {
      "needs_background": "light"
     },
     "output_type": "display_data"
    }
   ],
   "source": [
    "# plot precision-recall curve\n",
    "from sklearn.metrics import precision_recall_curve, plot_precision_recall_curve\n",
    "\n",
    "precision, recall, thresholds = precision_recall_curve(y_test, y_scores)\n",
    "plot_precision_recall_curve(logreg, x_test, y_test)"
   ]
  },
  {
   "cell_type": "markdown",
   "metadata": {},
   "source": [
    "### 7. Plot ROC curve, with false-positive rate on the x-axis, and true-positive rate on the y-axis."
   ]
  },
  {
   "cell_type": "code",
   "execution_count": 11,
   "metadata": {},
   "outputs": [
    {
     "data": {
      "text/plain": [
       "<sklearn.metrics._plot.roc_curve.RocCurveDisplay at 0x1a1d20a2d0>"
      ]
     },
     "execution_count": 11,
     "metadata": {},
     "output_type": "execute_result"
    },
    {
     "data": {
      "image/png": "[encoded data removed]",
      "text/plain": [
       "<Figure size 432x288 with 1 Axes>"
      ]
     },
     "metadata": {
      "needs_background": "light"
     },
     "output_type": "display_data"
    }
   ],
   "source": [
    "# Plot ROC curve\n",
    "from sklearn.metrics import plot_roc_curve\n",
    "\n",
    "plot_roc_curve(logreg, x_test, y_test)"
   ]
  },
  {
   "cell_type": "markdown",
   "metadata": {},
   "source": [
    "### 8. Commentary\n",
    "Please summarize your results, including precision and recall, and describe what modifications you made to improve your results."
   ]
  },
  {
   "cell_type": "markdown",
   "metadata": {},
   "source": [
    "Without tuning any parameters, fitting a Logistic Regression gives a precision score of 0.83, recall score of 0.83, F1 score of 0.83, and an average precision score of 0.91. After specifying certain parameters (C=5, random_state=0, n_jobs=-1, verbose=5, max_iter=200), the precision score increases to 0.84, recall score increases to 0.88, F1 score increases to 0.86, and average precision score increases to 0.93. This means that of all movies in the test set, the model has a 84% positive predictive rate."
   ]
  }
 ],
 "metadata": {
  "kernelspec": {
   "display_name": "Python 3",
   "language": "python",
   "name": "python3"
  },
  "language_info": {
   "codemirror_mode": {
    "name": "ipython",
    "version": 3
   },
   "file_extension": ".py",
   "mimetype": "text/x-python",
   "name": "python",
   "nbconvert_exporter": "python",
   "pygments_lexer": "ipython3",
   "version": "3.7.6"
  }
 },
 "nbformat": 4,
 "nbformat_minor": 4
}
